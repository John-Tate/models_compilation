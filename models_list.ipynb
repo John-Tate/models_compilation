{
 "cells": [
  {
   "cell_type": "markdown",
   "metadata": {},
   "source": [
    "# List of Models Covered  "
   ]
  },
  {
   "cell_type": "markdown",
   "metadata": {},
   "source": [
    "### So far we have covered the following models:"
   ]
  },
  {
   "cell_type": "markdown",
   "metadata": {},
   "source": [
    "Linear Regression  \n",
    "Ridge Regression  \n",
    "Lasso Regression  \n",
    "Logistic Regression  \n",
    "Support Vector Machine (SVM)  \n",
    "Decistion Tree Regression/Classification  \n",
    "Random Forest Regression/Classification  \n",
    "AdaBoost  \n",
    "Gradient Tree Boosting  \n",
    "Extra Trees Regression/Classification  \n",
    "KNN  \n",
    "K-Means Clustering  \n",
    "DB Scan  \n",
    "Hierarchical Clustering  \n",
    "Artificial Neural Networks (ANN)  \n",
    "Naive-Bayes  \n",
    "ARMA  \n",
    "ARIMA  \n",
    "\n"
   ]
  },
  {
   "cell_type": "markdown",
   "metadata": {},
   "source": [
    "Please update/correct/add to list when possible.  \n",
    "\n",
    "When able, try to group methods accordingly (eg supervised vs. unsupervised, regressors vs. classifiers, etc...)"
   ]
  },
  {
   "cell_type": "markdown",
   "metadata": {
    "collapsed": true
   },
   "source": [
    "** Classification **\n",
    "\n",
    "Logistic Regression:\n",
    "* Base Logistic Regression\n",
    "* MN Logistic Regression \n",
    "Support Vector Machine (SVM)\n",
    "Decistion Tree Classification\n",
    "Random Forest Classification\n",
    "AdaBoost\n",
    "Gradient Tree Boosting\n",
    "Extra Trees Classification\n",
    "KNN\n",
    "SGD\n",
    "Linear Discriminant Analysis\n",
    "Naive Bayes"
   ]
  },
  {
   "cell_type": "markdown",
   "metadata": {},
   "source": [
    "** Clustering **\n",
    "\n",
    "KMeans\n",
    "DBScan\n",
    "Hierarchical Clustering\n",
    "Spectral Clustering\n",
    "Mean Shift"
   ]
  },
  {
   "cell_type": "markdown",
   "metadata": {},
   "source": [
    "** Regression ** \n",
    "\n",
    "Linear Regression\n",
    "Lasso\n",
    "Ridge\n",
    "SGD Regressor\n",
    "Support Vector Regressor (SVR)\n",
    "KNeighborsRegressor\n",
    "Decision Tree Regressor\n",
    "Random Forest Regressor\n",
    "Extra Trees Regressor\n",
    "Gradient Boost Regressor "
   ]
  },
  {
   "cell_type": "markdown",
   "metadata": {},
   "source": [
    "** Forcasting / Prediction ** \n",
    "\n",
    "ARMA\n",
    "ARIMA"
   ]
  }
 ],
 "metadata": {
  "kernelspec": {
   "display_name": "Python 2",
   "language": "python",
   "name": "python2"
  },
  "language_info": {
   "codemirror_mode": {
    "name": "ipython",
    "version": 2
   },
   "file_extension": ".py",
   "mimetype": "text/x-python",
   "name": "python",
   "nbconvert_exporter": "python",
   "pygments_lexer": "ipython2",
   "version": "2.7.11"
  }
 },
 "nbformat": 4,
 "nbformat_minor": 0
}
